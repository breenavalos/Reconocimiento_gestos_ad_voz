{
 "cells": [
  {
   "cell_type": "markdown",
   "metadata": {},
   "source": [
    "# 1. Importación de dependencias"
   ]
  },
  {
   "cell_type": "code",
   "execution_count": null,
   "metadata": {},
   "outputs": [],
   "source": [
    "#!pip install opencv-python\n",
    "#conda list protobuf\n",
    "#conda install opencv"
   ]
  },
  {
   "cell_type": "code",
   "execution_count": 1,
   "metadata": {},
   "outputs": [
    {
     "name": "stderr",
     "output_type": "stream",
     "text": [
      "C:\\Users\\BAVALOS\\anaconda3\\envs\\tensorflow\\lib\\site-packages\\numpy\\_distributor_init.py:30: UserWarning: loaded more than 1 DLL from .libs:\n",
      "C:\\Users\\BAVALOS\\anaconda3\\envs\\tensorflow\\lib\\site-packages\\numpy\\.libs\\libopenblas.GK7GX5KEQ4F6UYO3P26ULGBQYHGQO7J4.gfortran-win_amd64.dll\n",
      "C:\\Users\\BAVALOS\\anaconda3\\envs\\tensorflow\\lib\\site-packages\\numpy\\.libs\\libopenblas64__v0.3.21-gcc_10_3_0.dll\n",
      "  warnings.warn(\"loaded more than 1 DLL from .libs:\"\n"
     ]
    }
   ],
   "source": [
    "# Import opencv ; biblioteca libre de visión artificial\n",
    "import cv2 \n",
    "\n",
    "# Import uuid ; me permite la identificacion unica de los elementos\n",
    "import uuid\n",
    "\n",
    "# Import Operating System ; me permite gestionar mis archivos en la pc\n",
    "import os\n",
    "\n",
    "# Import time ; tiempo \n",
    "import time"
   ]
  },
  {
   "cell_type": "markdown",
   "metadata": {},
   "source": [
    "# 2. Definir los gestos a detectar"
   ]
  },
  {
   "cell_type": "code",
   "execution_count": 6,
   "metadata": {},
   "outputs": [],
   "source": [
    "labels = ['HOLA', 'CHAU','PERMISO','AMOR', 'GRACIAS']\n",
    "number_imgs = 5"
   ]
  },
  {
   "cell_type": "markdown",
   "metadata": {},
   "source": [
    "# 3. Crear las carpetas en el directorio"
   ]
  },
  {
   "cell_type": "code",
   "execution_count": 2,
   "metadata": {},
   "outputs": [],
   "source": [
    "IMAGES_PATH = os.path.join('Tensorflow', 'workspace', 'images', 'collectedimages')"
   ]
  },
  {
   "cell_type": "code",
   "execution_count": 8,
   "metadata": {},
   "outputs": [],
   "source": [
    "if not os.path.exists(IMAGES_PATH):\n",
    "    if os.name == 'posix':\n",
    "        !mkdir -p {IMAGES_PATH}\n",
    "    if os.name == 'nt':\n",
    "         !mkdir {IMAGES_PATH}\n",
    "for label in labels:\n",
    "    path = os.path.join(IMAGES_PATH, label)\n",
    "    if not os.path.exists(path):\n",
    "        !mkdir {path}"
   ]
  },
  {
   "cell_type": "markdown",
   "metadata": {},
   "source": [
    "# 4. Captura de imagenes"
   ]
  },
  {
   "cell_type": "code",
   "execution_count": 11,
   "metadata": {},
   "outputs": [
    {
     "name": "stdout",
     "output_type": "stream",
     "text": [
      "Collecting images for HOLA\n",
      "Collecting image 0\n",
      "Collecting image 1\n",
      "Collecting image 2\n",
      "Collecting image 3\n",
      "Collecting image 4\n",
      "Collecting images for CHAU\n",
      "Collecting image 0\n",
      "Collecting image 1\n",
      "Collecting image 2\n",
      "Collecting image 3\n",
      "Collecting image 4\n",
      "Collecting images for PERMISO\n",
      "Collecting image 0\n",
      "Collecting image 1\n",
      "Collecting image 2\n",
      "Collecting image 3\n",
      "Collecting image 4\n",
      "Collecting images for AMOR\n",
      "Collecting image 0\n",
      "Collecting image 1\n",
      "Collecting image 2\n",
      "Collecting image 3\n",
      "Collecting image 4\n",
      "Collecting images for GRACIAS\n",
      "Collecting image 0\n",
      "Collecting image 1\n",
      "Collecting image 2\n",
      "Collecting image 3\n",
      "Collecting image 4\n"
     ]
    }
   ],
   "source": [
    "for label in labels:\n",
    "    cap = cv2.VideoCapture(0)\n",
    "    print('Collecting images for {}'.format(label))\n",
    "    time.sleep(5)\n",
    "    for imgnum in range(number_imgs):\n",
    "        print('Collecting image {}'.format(imgnum))\n",
    "        ret, frame = cap.read()\n",
    "        imgname = os.path.join(IMAGES_PATH,label,label+'.'+'{}.jpg'.format(str(uuid.uuid1())))\n",
    "        cv2.imwrite(imgname, frame)\n",
    "        cv2.imshow('frame', frame)\n",
    "        time.sleep(2)\n",
    "\n",
    "        if cv2.waitKey(1) & 0xFF == ord('q'):\n",
    "            break\n",
    "cap.release()\n",
    "cv2.destroyAllWindows()"
   ]
  },
  {
   "cell_type": "markdown",
   "metadata": {},
   "source": [
    "# 5. Etiquetado de imagenes"
   ]
  },
  {
   "cell_type": "code",
   "execution_count": 12,
   "metadata": {},
   "outputs": [],
   "source": [
    "# Pre configuración para la Instalacion del sistema/paquete de etiquetado\n",
    "#!pip install --upgrade pyqt5 lxml"
   ]
  },
  {
   "cell_type": "code",
   "execution_count": 13,
   "metadata": {},
   "outputs": [],
   "source": [
    "#Se crea carpeta para bajar el sistema de etiquetado\n",
    "LABELIMG_PATH = os.path.join('Tensorflow', 'labelimg')"
   ]
  },
  {
   "cell_type": "code",
   "execution_count": 14,
   "metadata": {},
   "outputs": [],
   "source": [
    "#Baja del repositorio que contiene el sistema de etiquetado\n",
    "#if not os.path.exists(LABELIMG_PATH):\n",
    "#    !mkdir {LABELIMG_PATH}\n",
    "#    !git clone https://github.com/tzutalin/labelImg {LABELIMG_PATH}\n"
   ]
  },
  {
   "cell_type": "code",
   "execution_count": 15,
   "metadata": {},
   "outputs": [],
   "source": [
    "if os.name == 'posix':\n",
    "    !make qt5py3\n",
    "if os.name =='nt':\n",
    "    !cd {LABELIMG_PATH} && pyrcc5 -o libs/resources.py resources.qrc"
   ]
  },
  {
   "cell_type": "code",
   "execution_count": 16,
   "metadata": {},
   "outputs": [
    {
     "name": "stdout",
     "output_type": "stream",
     "text": [
      "Image:C:\\Users\\BAVALOS\\Desktop\\Proyecto\\TFODCourse\\Tensorflow\\workspace\\images\\collectedimages\\AMOR\\AMOR.1a594b97-1491-11ee-ae36-ac74b154cf2c.jpg -> Annotation:C:/Users/BAVALOS/Desktop/Proyecto/TFODCourse/Tensorflow/workspace/images/collectedimages/AMOR\\AMOR.1a594b97-1491-11ee-ae36-ac74b154cf2c.xml\n",
      "Image:C:\\Users\\BAVALOS\\Desktop\\Proyecto\\TFODCourse\\Tensorflow\\workspace\\images\\collectedimages\\AMOR\\AMOR.16b44f9b-1491-11ee-97d0-ac74b154cf2c.jpg -> Annotation:C:/Users/BAVALOS/Desktop/Proyecto/TFODCourse/Tensorflow/workspace/images/collectedimages/AMOR\\AMOR.16b44f9b-1491-11ee-97d0-ac74b154cf2c.xml\n",
      "Image:C:\\Users\\BAVALOS\\Desktop\\Proyecto\\TFODCourse\\Tensorflow\\workspace\\images\\collectedimages\\AMOR\\AMOR.17ec4f23-1491-11ee-aa7b-ac74b154cf2c.jpg -> Annotation:C:/Users/BAVALOS/Desktop/Proyecto/TFODCourse/Tensorflow/workspace/images/collectedimages/AMOR\\AMOR.17ec4f23-1491-11ee-aa7b-ac74b154cf2c.xml\n",
      "Image:C:\\Users\\BAVALOS\\Desktop\\Proyecto\\TFODCourse\\Tensorflow\\workspace\\images\\collectedimages\\AMOR\\AMOR.157cee12-1491-11ee-88c6-ac74b154cf2c.jpg -> Annotation:C:/Users/BAVALOS/Desktop/Proyecto/TFODCourse/Tensorflow/workspace/images/collectedimages/AMOR\\AMOR.157cee12-1491-11ee-88c6-ac74b154cf2c.xml\n",
      "Image:C:\\Users\\BAVALOS\\Desktop\\Proyecto\\TFODCourse\\Tensorflow\\workspace\\images\\collectedimages\\AMOR\\AMOR.1922d3d9-1491-11ee-82d6-ac74b154cf2c.jpg -> Annotation:C:/Users/BAVALOS/Desktop/Proyecto/TFODCourse/Tensorflow/workspace/images/collectedimages/AMOR\\AMOR.1922d3d9-1491-11ee-82d6-ac74b154cf2c.xml\n",
      "Image:C:\\Users\\BAVALOS\\Desktop\\Proyecto\\TFODCourse\\Tensorflow\\workspace\\images\\collectedimages\\AMOR\\AMOR.f2cc0ac7-1491-11ee-af22-ac74b154cf2c.jpg -> Annotation:C:/Users/BAVALOS/Desktop/Proyecto/TFODCourse/Tensorflow/workspace/images/collectedimages/AMOR\\AMOR.f2cc0ac7-1491-11ee-af22-ac74b154cf2c.xml\n",
      "Image:C:\\Users\\BAVALOS\\Desktop\\Proyecto\\TFODCourse\\Tensorflow\\workspace\\images\\collectedimages\\AMOR\\AMOR.f66ebd98-1491-11ee-a5e8-ac74b154cf2c.jpg -> Annotation:C:/Users/BAVALOS/Desktop/Proyecto/TFODCourse/Tensorflow/workspace/images/collectedimages/AMOR\\AMOR.f66ebd98-1491-11ee-a5e8-ac74b154cf2c.xml\n",
      "Image:C:\\Users\\BAVALOS\\Desktop\\Proyecto\\TFODCourse\\Tensorflow\\workspace\\images\\collectedimages\\AMOR\\AMOR.f4011e74-1491-11ee-896c-ac74b154cf2c.jpg -> Annotation:C:/Users/BAVALOS/Desktop/Proyecto/TFODCourse/Tensorflow/workspace/images/collectedimages/AMOR\\AMOR.f4011e74-1491-11ee-896c-ac74b154cf2c.xml\n",
      "Image:C:\\Users\\BAVALOS\\Desktop\\Proyecto\\TFODCourse\\Tensorflow\\workspace\\images\\collectedimages\\AMOR\\AMOR.f1959919-1491-11ee-a12f-ac74b154cf2c.jpg -> Annotation:C:/Users/BAVALOS/Desktop/Proyecto/TFODCourse/Tensorflow/workspace/images/collectedimages/AMOR\\AMOR.f1959919-1491-11ee-a12f-ac74b154cf2c.xml\n",
      "Image:C:\\Users\\BAVALOS\\Desktop\\Proyecto\\TFODCourse\\Tensorflow\\workspace\\images\\collectedimages\\AMOR\\AMOR.f5385775-1491-11ee-8984-ac74b154cf2c.jpg -> Annotation:C:/Users/BAVALOS/Desktop/Proyecto/TFODCourse/Tensorflow/workspace/images/collectedimages/AMOR\\AMOR.f5385775-1491-11ee-8984-ac74b154cf2c.xml\n",
      "Image:C:\\Users\\BAVALOS\\Desktop\\Proyecto\\TFODCourse\\Tensorflow\\workspace\\images\\collectedimages\\CHAU\\CHAU.03e583c1-1491-11ee-938f-ac74b154cf2c.jpg -> Annotation:C:/Users/BAVALOS/Desktop/Proyecto/TFODCourse/Tensorflow/workspace/images/collectedimages/CHAU\\CHAU.03e583c1-1491-11ee-938f-ac74b154cf2c.xml\n",
      "Image:C:\\Users\\BAVALOS\\Desktop\\Proyecto\\TFODCourse\\Tensorflow\\workspace\\images\\collectedimages\\CHAU\\CHAU.051b7772-1491-11ee-b457-ac74b154cf2c.jpg -> Annotation:C:/Users/BAVALOS/Desktop/Proyecto/TFODCourse/Tensorflow/workspace/images/collectedimages/CHAU\\CHAU.051b7772-1491-11ee-b457-ac74b154cf2c.xml\n",
      "Image:C:\\Users\\BAVALOS\\Desktop\\Proyecto\\TFODCourse\\Tensorflow\\workspace\\images\\collectedimages\\CHAU\\CHAU.0178b8f4-1491-11ee-9140-ac74b154cf2c.jpg -> Annotation:C:/Users/BAVALOS/Desktop/Proyecto/TFODCourse/Tensorflow/workspace/images/collectedimages/CHAU\\CHAU.0178b8f4-1491-11ee-9140-ac74b154cf2c.xml\n",
      "Image:C:\\Users\\BAVALOS\\Desktop\\Proyecto\\TFODCourse\\Tensorflow\\workspace\\images\\collectedimages\\CHAU\\CHAU.00428463-1491-11ee-9350-ac74b154cf2c.jpg -> Annotation:C:/Users/BAVALOS/Desktop/Proyecto/TFODCourse/Tensorflow/workspace/images/collectedimages/CHAU\\CHAU.00428463-1491-11ee-9350-ac74b154cf2c.xml\n",
      "Image:C:\\Users\\BAVALOS\\Desktop\\Proyecto\\TFODCourse\\Tensorflow\\workspace\\images\\collectedimages\\CHAU\\CHAU.dcd8d547-1491-11ee-a042-ac74b154cf2c.jpg -> Annotation:C:/Users/BAVALOS/Desktop/Proyecto/TFODCourse/Tensorflow/workspace/images/collectedimages/CHAU\\CHAU.dcd8d547-1491-11ee-a042-ac74b154cf2c.xml\n",
      "Image:C:\\Users\\BAVALOS\\Desktop\\Proyecto\\TFODCourse\\Tensorflow\\workspace\\images\\collectedimages\\CHAU\\CHAU.de0d91be-1491-11ee-a0f2-ac74b154cf2c.jpg -> Annotation:C:/Users/BAVALOS/Desktop/Proyecto/TFODCourse/Tensorflow/workspace/images/collectedimages/CHAU\\CHAU.de0d91be-1491-11ee-a0f2-ac74b154cf2c.xml\n",
      "Image:C:\\Users\\BAVALOS\\Desktop\\Proyecto\\TFODCourse\\Tensorflow\\workspace\\images\\collectedimages\\CHAU\\CHAU.df4260db-1491-11ee-83b7-ac74b154cf2c.jpg -> Annotation:C:/Users/BAVALOS/Desktop/Proyecto/TFODCourse/Tensorflow/workspace/images/collectedimages/CHAU\\CHAU.df4260db-1491-11ee-83b7-ac74b154cf2c.xml\n",
      "Image:C:\\Users\\BAVALOS\\Desktop\\Proyecto\\TFODCourse\\Tensorflow\\workspace\\images\\collectedimages\\CHAU\\CHAU.e1ae9c0b-1491-11ee-9543-ac74b154cf2c.jpg -> Annotation:C:/Users/BAVALOS/Desktop/Proyecto/TFODCourse/Tensorflow/workspace/images/collectedimages/CHAU\\CHAU.e1ae9c0b-1491-11ee-9543-ac74b154cf2c.xml\n",
      "Image:C:\\Users\\BAVALOS\\Desktop\\Proyecto\\TFODCourse\\Tensorflow\\workspace\\images\\collectedimages\\CHAU\\CHAU.e07877fe-1491-11ee-a226-ac74b154cf2c.jpg -> Annotation:C:/Users/BAVALOS/Desktop/Proyecto/TFODCourse/Tensorflow/workspace/images/collectedimages/CHAU\\CHAU.e07877fe-1491-11ee-a226-ac74b154cf2c.xml\n",
      "Image:C:\\Users\\BAVALOS\\Desktop\\Proyecto\\TFODCourse\\Tensorflow\\workspace\\images\\collectedimages\\CHAU\\CHAU.e07877fe-1491-11ee-a226-ac74b154cf2c.jpg -> Annotation:C:/Users/BAVALOS/Desktop/Proyecto/TFODCourse/Tensorflow/workspace/images/collectedimages/CHAU\\CHAU.e07877fe-1491-11ee-a226-ac74b154cf2c.xml\n",
      "Image:C:\\Users\\BAVALOS\\Desktop\\Proyecto\\TFODCourse\\Tensorflow\\workspace\\images\\collectedimages\\CHAU\\CHAU.e1ae9c0b-1491-11ee-9543-ac74b154cf2c.jpg -> Annotation:C:/Users/BAVALOS/Desktop/Proyecto/TFODCourse/Tensorflow/workspace/images/collectedimages/CHAU\\CHAU.e1ae9c0b-1491-11ee-9543-ac74b154cf2c.xml\n",
      "Image:C:\\Users\\BAVALOS\\Desktop\\Proyecto\\TFODCourse\\Tensorflow\\workspace\\images\\collectedimages\\CHAU\\CHAU.df4260db-1491-11ee-83b7-ac74b154cf2c.jpg -> Annotation:C:/Users/BAVALOS/Desktop/Proyecto/TFODCourse/Tensorflow/workspace/images/collectedimages/CHAU\\CHAU.df4260db-1491-11ee-83b7-ac74b154cf2c.xml\n",
      "Image:C:\\Users\\BAVALOS\\Desktop\\Proyecto\\TFODCourse\\Tensorflow\\workspace\\images\\collectedimages\\CHAU\\CHAU.de0d91be-1491-11ee-a0f2-ac74b154cf2c.jpg -> Annotation:C:/Users/BAVALOS/Desktop/Proyecto/TFODCourse/Tensorflow/workspace/images/collectedimages/CHAU\\CHAU.de0d91be-1491-11ee-a0f2-ac74b154cf2c.xml\n",
      "Image:C:\\Users\\BAVALOS\\Desktop\\Proyecto\\TFODCourse\\Tensorflow\\workspace\\images\\collectedimages\\CHAU\\CHAU.dcd8d547-1491-11ee-a042-ac74b154cf2c.jpg -> Annotation:C:/Users/BAVALOS/Desktop/Proyecto/TFODCourse/Tensorflow/workspace/images/collectedimages/CHAU\\CHAU.dcd8d547-1491-11ee-a042-ac74b154cf2c.xml\n",
      "Image:C:\\Users\\BAVALOS\\Desktop\\Proyecto\\TFODCourse\\Tensorflow\\workspace\\images\\collectedimages\\CHAU\\CHAU.00428463-1491-11ee-9350-ac74b154cf2c.jpg -> Annotation:C:/Users/BAVALOS/Desktop/Proyecto/TFODCourse/Tensorflow/workspace/images/collectedimages/CHAU\\CHAU.00428463-1491-11ee-9350-ac74b154cf2c.xml\n",
      "Image:C:\\Users\\BAVALOS\\Desktop\\Proyecto\\TFODCourse\\Tensorflow\\workspace\\images\\collectedimages\\CHAU\\CHAU.02aec650-1491-11ee-98ee-ac74b154cf2c.jpg -> Annotation:C:/Users/BAVALOS/Desktop/Proyecto/TFODCourse/Tensorflow/workspace/images/collectedimages/CHAU\\CHAU.02aec650-1491-11ee-98ee-ac74b154cf2c.xml\n",
      "Image:C:\\Users\\BAVALOS\\Desktop\\Proyecto\\TFODCourse\\Tensorflow\\workspace\\images\\collectedimages\\GRACIAS\\GRACIAS.00d1ba47-1492-11ee-8366-ac74b154cf2c.jpg -> Annotation:C:/Users/BAVALOS/Desktop/Proyecto/TFODCourse/Tensorflow/workspace/images/collectedimages/GRACIAS\\GRACIAS.00d1ba47-1492-11ee-8366-ac74b154cf2c.xml\n",
      "Image:C:\\Users\\BAVALOS\\Desktop\\Proyecto\\TFODCourse\\Tensorflow\\workspace\\images\\collectedimages\\GRACIAS\\GRACIAS.23befb09-1491-11ee-ab83-ac74b154cf2c.jpg -> Annotation:C:/Users/BAVALOS/Desktop/Proyecto/TFODCourse/Tensorflow/workspace/images/collectedimages/GRACIAS\\GRACIAS.23befb09-1491-11ee-ab83-ac74b154cf2c.xml\n",
      "Image:C:\\Users\\BAVALOS\\Desktop\\Proyecto\\TFODCourse\\Tensorflow\\workspace\\images\\collectedimages\\GRACIAS\\GRACIAS.24f6d112-1491-11ee-a3cf-ac74b154cf2c.jpg -> Annotation:C:/Users/BAVALOS/Desktop/Proyecto/TFODCourse/Tensorflow/workspace/images/collectedimages/GRACIAS\\GRACIAS.24f6d112-1491-11ee-a3cf-ac74b154cf2c.xml\n",
      "Image:C:\\Users\\BAVALOS\\Desktop\\Proyecto\\TFODCourse\\Tensorflow\\workspace\\images\\collectedimages\\GRACIAS\\GRACIAS.214e2614-1491-11ee-a4aa-ac74b154cf2c.jpg -> Annotation:C:/Users/BAVALOS/Desktop/Proyecto/TFODCourse/Tensorflow/workspace/images/collectedimages/GRACIAS\\GRACIAS.214e2614-1491-11ee-a4aa-ac74b154cf2c.xml\n",
      "Image:C:\\Users\\BAVALOS\\Desktop\\Proyecto\\TFODCourse\\Tensorflow\\workspace\\images\\collectedimages\\GRACIAS\\GRACIAS.22847dd7-1491-11ee-92ca-ac74b154cf2c.jpg -> Annotation:C:/Users/BAVALOS/Desktop/Proyecto/TFODCourse/Tensorflow/workspace/images/collectedimages/GRACIAS\\GRACIAS.22847dd7-1491-11ee-92ca-ac74b154cf2c.xml\n",
      "Image:C:\\Users\\BAVALOS\\Desktop\\Proyecto\\TFODCourse\\Tensorflow\\workspace\\images\\collectedimages\\GRACIAS\\GRACIAS.20182199-1491-11ee-b7d3-ac74b154cf2c.jpg -> Annotation:C:/Users/BAVALOS/Desktop/Proyecto/TFODCourse/Tensorflow/workspace/images/collectedimages/GRACIAS\\GRACIAS.20182199-1491-11ee-b7d3-ac74b154cf2c.xml\n",
      "Image:C:\\Users\\BAVALOS\\Desktop\\Proyecto\\TFODCourse\\Tensorflow\\workspace\\images\\collectedimages\\GRACIAS\\GRACIAS.fbf78314-1491-11ee-a276-ac74b154cf2c.jpg -> Annotation:C:/Users/BAVALOS/Desktop/Proyecto/TFODCourse/Tensorflow/workspace/images/collectedimages/GRACIAS\\GRACIAS.fbf78314-1491-11ee-a276-ac74b154cf2c.xml\n",
      "Image:C:\\Users\\BAVALOS\\Desktop\\Proyecto\\TFODCourse\\Tensorflow\\workspace\\images\\collectedimages\\GRACIAS\\GRACIAS.fd2e8073-1491-11ee-952e-ac74b154cf2c.jpg -> Annotation:C:/Users/BAVALOS/Desktop/Proyecto/TFODCourse/Tensorflow/workspace/images/collectedimages/GRACIAS\\GRACIAS.fd2e8073-1491-11ee-952e-ac74b154cf2c.xml\n",
      "Image:C:\\Users\\BAVALOS\\Desktop\\Proyecto\\TFODCourse\\Tensorflow\\workspace\\images\\collectedimages\\GRACIAS\\GRACIAS.fe642237-1491-11ee-9fe6-ac74b154cf2c.jpg -> Annotation:C:/Users/BAVALOS/Desktop/Proyecto/TFODCourse/Tensorflow/workspace/images/collectedimages/GRACIAS\\GRACIAS.fe642237-1491-11ee-9fe6-ac74b154cf2c.xml\n",
      "Image:C:\\Users\\BAVALOS\\Desktop\\Proyecto\\TFODCourse\\Tensorflow\\workspace\\images\\collectedimages\\GRACIAS\\GRACIAS.ff9af663-1491-11ee-8d3c-ac74b154cf2c.jpg -> Annotation:C:/Users/BAVALOS/Desktop/Proyecto/TFODCourse/Tensorflow/workspace/images/collectedimages/GRACIAS\\GRACIAS.ff9af663-1491-11ee-8d3c-ac74b154cf2c.xml\n",
      "Image:C:\\Users\\BAVALOS\\Desktop\\Proyecto\\TFODCourse\\Tensorflow\\workspace\\images\\collectedimages\\HOLA\\HOLA.d2d3981e-1491-11ee-a8f2-ac74b154cf2c.jpg -> Annotation:C:/Users/BAVALOS/Desktop/Proyecto/TFODCourse/Tensorflow/workspace/images/collectedimages/HOLA\\HOLA.d2d3981e-1491-11ee-a8f2-ac74b154cf2c.xml\n",
      "Image:C:\\Users\\BAVALOS\\Desktop\\Proyecto\\TFODCourse\\Tensorflow\\workspace\\images\\collectedimages\\HOLA\\HOLA.d4e32705-1491-11ee-971a-ac74b154cf2c.jpg -> Annotation:C:/Users/BAVALOS/Desktop/Proyecto/TFODCourse/Tensorflow/workspace/images/collectedimages/HOLA\\HOLA.d4e32705-1491-11ee-971a-ac74b154cf2c.xml\n",
      "Image:C:\\Users\\BAVALOS\\Desktop\\Proyecto\\TFODCourse\\Tensorflow\\workspace\\images\\collectedimages\\HOLA\\HOLA.d74ead0a-1491-11ee-a06e-ac74b154cf2c.jpg -> Annotation:C:/Users/BAVALOS/Desktop/Proyecto/TFODCourse/Tensorflow/workspace/images/collectedimages/HOLA\\HOLA.d74ead0a-1491-11ee-a06e-ac74b154cf2c.xml\n",
      "Image:C:\\Users\\BAVALOS\\Desktop\\Proyecto\\TFODCourse\\Tensorflow\\workspace\\images\\collectedimages\\HOLA\\HOLA.d197ddf5-1491-11ee-b351-ac74b154cf2c.jpg -> Annotation:C:/Users/BAVALOS/Desktop/Proyecto/TFODCourse/Tensorflow/workspace/images/collectedimages/HOLA\\HOLA.d197ddf5-1491-11ee-b351-ac74b154cf2c.xml\n",
      "Image:C:\\Users\\BAVALOS\\Desktop\\Proyecto\\TFODCourse\\Tensorflow\\workspace\\images\\collectedimages\\HOLA\\HOLA.d619642a-1491-11ee-8585-ac74b154cf2c.jpg -> Annotation:C:/Users/BAVALOS/Desktop/Proyecto/TFODCourse/Tensorflow/workspace/images/collectedimages/HOLA\\HOLA.d619642a-1491-11ee-8585-ac74b154cf2c.xml\n",
      "Image:C:\\Users\\BAVALOS\\Desktop\\Proyecto\\TFODCourse\\Tensorflow\\workspace\\images\\collectedimages\\HOLA\\HOLA.f6d718ef-1490-11ee-9c96-ac74b154cf2c.jpg -> Annotation:C:/Users/BAVALOS/Desktop/Proyecto/TFODCourse/Tensorflow/workspace/images/collectedimages/HOLA\\HOLA.f6d718ef-1490-11ee-9c96-ac74b154cf2c.xml\n",
      "Image:C:\\Users\\BAVALOS\\Desktop\\Proyecto\\TFODCourse\\Tensorflow\\workspace\\images\\collectedimages\\HOLA\\HOLA.f941b4d2-1490-11ee-a5ed-ac74b154cf2c.jpg -> Annotation:C:/Users/BAVALOS/Desktop/Proyecto/TFODCourse/Tensorflow/workspace/images/collectedimages/HOLA\\HOLA.f941b4d2-1490-11ee-a5ed-ac74b154cf2c.xml\n",
      "Image:C:\\Users\\BAVALOS\\Desktop\\Proyecto\\TFODCourse\\Tensorflow\\workspace\\images\\collectedimages\\HOLA\\HOLA.fa777904-1490-11ee-aab7-ac74b154cf2c.jpg -> Annotation:C:/Users/BAVALOS/Desktop/Proyecto/TFODCourse/Tensorflow/workspace/images/collectedimages/HOLA\\HOLA.fa777904-1490-11ee-aab7-ac74b154cf2c.xml\n",
      "Image:C:\\Users\\BAVALOS\\Desktop\\Proyecto\\TFODCourse\\Tensorflow\\workspace\\images\\collectedimages\\PERMISO\\PERMISO.0b0abebf-1491-11ee-a280-ac74b154cf2c.jpg -> Annotation:C:/Users/BAVALOS/Desktop/Proyecto/TFODCourse/Tensorflow/workspace/images/collectedimages/PERMISO\\PERMISO.0b0abebf-1491-11ee-a280-ac74b154cf2c.xml\n",
      "Image:C:\\Users\\BAVALOS\\Desktop\\Proyecto\\TFODCourse\\Tensorflow\\workspace\\images\\collectedimages\\PERMISO\\PERMISO.0c3ff5af-1491-11ee-bb32-ac74b154cf2c.jpg -> Annotation:C:/Users/BAVALOS/Desktop/Proyecto/TFODCourse/Tensorflow/workspace/images/collectedimages/PERMISO\\PERMISO.0c3ff5af-1491-11ee-bb32-ac74b154cf2c.xml\n",
      "Image:C:\\Users\\BAVALOS\\Desktop\\Proyecto\\TFODCourse\\Tensorflow\\workspace\\images\\collectedimages\\PERMISO\\PERMISO.0d758a9b-1491-11ee-a171-ac74b154cf2c.jpg -> Annotation:C:/Users/BAVALOS/Desktop/Proyecto/TFODCourse/Tensorflow/workspace/images/collectedimages/PERMISO\\PERMISO.0d758a9b-1491-11ee-a171-ac74b154cf2c.xml\n",
      "Cancel creation.\n",
      "Image:C:\\Users\\BAVALOS\\Desktop\\Proyecto\\TFODCourse\\Tensorflow\\workspace\\images\\collectedimages\\PERMISO\\PERMISO.0ead64ac-1491-11ee-9742-ac74b154cf2c.jpg -> Annotation:C:/Users/BAVALOS/Desktop/Proyecto/TFODCourse/Tensorflow/workspace/images/collectedimages/PERMISO\\PERMISO.0ead64ac-1491-11ee-9742-ac74b154cf2c.xml\n",
      "Image:C:\\Users\\BAVALOS\\Desktop\\Proyecto\\TFODCourse\\Tensorflow\\workspace\\images\\collectedimages\\PERMISO\\PERMISO.0fe2edc7-1491-11ee-b7e4-ac74b154cf2c.jpg -> Annotation:C:/Users/BAVALOS/Desktop/Proyecto/TFODCourse/Tensorflow/workspace/images/collectedimages/PERMISO\\PERMISO.0fe2edc7-1491-11ee-b7e4-ac74b154cf2c.xml\n",
      "Image:C:\\Users\\BAVALOS\\Desktop\\Proyecto\\TFODCourse\\Tensorflow\\workspace\\images\\collectedimages\\PERMISO\\PERMISO.e9aaaf6b-1491-11ee-b530-ac74b154cf2c.jpg -> Annotation:C:/Users/BAVALOS/Desktop/Proyecto/TFODCourse/Tensorflow/workspace/images/collectedimages/PERMISO\\PERMISO.e9aaaf6b-1491-11ee-b530-ac74b154cf2c.xml\n",
      "Image:C:\\Users\\BAVALOS\\Desktop\\Proyecto\\TFODCourse\\Tensorflow\\workspace\\images\\collectedimages\\PERMISO\\PERMISO.e73e2f6d-1491-11ee-8ee3-ac74b154cf2c.jpg -> Annotation:C:/Users/BAVALOS/Desktop/Proyecto/TFODCourse/Tensorflow/workspace/images/collectedimages/PERMISO\\PERMISO.e73e2f6d-1491-11ee-8ee3-ac74b154cf2c.xml\n",
      "Image:C:\\Users\\BAVALOS\\Desktop\\Proyecto\\TFODCourse\\Tensorflow\\workspace\\images\\collectedimages\\PERMISO\\PERMISO.e8738622-1491-11ee-9e53-ac74b154cf2c.jpg -> Annotation:C:/Users/BAVALOS/Desktop/Proyecto/TFODCourse/Tensorflow/workspace/images/collectedimages/PERMISO\\PERMISO.e8738622-1491-11ee-9e53-ac74b154cf2c.xml\n",
      "Image:C:\\Users\\BAVALOS\\Desktop\\Proyecto\\TFODCourse\\Tensorflow\\workspace\\images\\collectedimages\\PERMISO\\PERMISO.eae13cc4-1491-11ee-9ab1-ac74b154cf2c.jpg -> Annotation:C:/Users/BAVALOS/Desktop/Proyecto/TFODCourse/Tensorflow/workspace/images/collectedimages/PERMISO\\PERMISO.eae13cc4-1491-11ee-9ab1-ac74b154cf2c.xml\n",
      "Image:C:\\Users\\BAVALOS\\Desktop\\Proyecto\\TFODCourse\\Tensorflow\\workspace\\images\\collectedimages\\PERMISO\\PERMISO.ec178eea-1491-11ee-85a0-ac74b154cf2c.jpg -> Annotation:C:/Users/BAVALOS/Desktop/Proyecto/TFODCourse/Tensorflow/workspace/images/collectedimages/PERMISO\\PERMISO.ec178eea-1491-11ee-85a0-ac74b154cf2c.xml\n"
     ]
    }
   ],
   "source": [
    "!cd {LABELIMG_PATH} && python labelImg.py"
   ]
  }
 ],
 "metadata": {
  "kernelspec": {
   "display_name": "Python 3 (ipykernel)",
   "language": "python",
   "name": "python3"
  },
  "language_info": {
   "codemirror_mode": {
    "name": "ipython",
    "version": 3
   },
   "file_extension": ".py",
   "mimetype": "text/x-python",
   "name": "python",
   "nbconvert_exporter": "python",
   "pygments_lexer": "ipython3",
   "version": "3.8.16"
  }
 },
 "nbformat": 4,
 "nbformat_minor": 2
}
