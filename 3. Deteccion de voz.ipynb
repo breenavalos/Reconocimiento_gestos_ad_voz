{
 "cells": [
  {
   "cell_type": "code",
   "execution_count": null,
   "id": "63c08db5",
   "metadata": {},
   "outputs": [],
   "source": [
    "# Install SpeechRecognition with pip install SpeechRecognition\n",
    "# Install pyaudio with pip install pyaudio\n",
    "\n",
    "import cv2\n",
    "import speech_recognition as sr"
   ]
  },
  {
   "cell_type": "code",
   "execution_count": null,
   "id": "a2ba930c",
   "metadata": {},
   "outputs": [],
   "source": [
    "#Prueba por escrito\n",
    "recognizer = sr.Recognizer()\n",
    "mic = sr.Microphone()\n",
    "with mic as source:\n",
    "\n",
    "    audio = recognizer.listen(source)\n",
    "\n",
    "text = recognizer.recognize_google(audio, language = 'ES')\n",
    "\n",
    "print(f'Has dicho: {text}')"
   ]
  },
  {
   "cell_type": "code",
   "execution_count": null,
   "id": "145d2ab8",
   "metadata": {},
   "outputs": [],
   "source": [
    "# Configuración de reconocimiento de voz\n",
    "recognizer = sr.Recognizer()\n",
    "mic = sr.Microphone()\n",
    "\n",
    "# Función para procesar el audio\n",
    "def process_audio(frame):\n",
    "    try:\n",
    "        with mic as source:\n",
    "            audio = recognizer.listen(source, phrase_time_limit=1)\n",
    "        text = recognizer.recognize_google(audio, language='es')\n",
    "        cv2.putText(frame, f'Texto: {text}', (10, 30), cv2.FONT_HERSHEY_SIMPLEX, 1, (0, 255, 0), 2)\n",
    "    except sr.UnknownValueError:\n",
    "        print('No se pudo reconocer el audio')\n",
    "\n",
    "# Inicialización de la cámara\n",
    "cap = cv2.VideoCapture(0)\n",
    "\n",
    "# Ciclo principal de captura de video y audio\n",
    "while True:\n",
    "    # Capturar un frame del video\n",
    "    ret, frame = cap.read()\n",
    "\n",
    "   # Procesar el audio y mostrar el texto en el video\n",
    "    process_audio(frame)\n",
    "\n",
    "    # Mostrar el frame en una ventana\n",
    "    cv2.imshow('Video', frame)\n",
    "\n",
    "    # Detener el programa si se presiona la tecla 'q'\n",
    "    if cv2.waitKey(1) & 0xFF == ord('q'):\n",
    "        break\n",
    "\n",
    "# Liberar los recursos\n",
    "cap.release()\n",
    "cv2.destroyAllWindows()"
   ]
  },
  {
   "cell_type": "code",
   "execution_count": null,
   "id": "fd05becb",
   "metadata": {},
   "outputs": [],
   "source": [
    "cap.release()\n",
    "cv2.destroyAllWindows()"
   ]
  },
  {
   "cell_type": "code",
   "execution_count": null,
   "id": "6ff34e2c",
   "metadata": {},
   "outputs": [],
   "source": []
  }
 ],
 "metadata": {
  "kernelspec": {
   "display_name": "Python 3 (ipykernel)",
   "language": "python",
   "name": "python3"
  },
  "language_info": {
   "codemirror_mode": {
    "name": "ipython",
    "version": 3
   },
   "file_extension": ".py",
   "mimetype": "text/x-python",
   "name": "python",
   "nbconvert_exporter": "python",
   "pygments_lexer": "ipython3",
   "version": "3.8.16"
  }
 },
 "nbformat": 4,
 "nbformat_minor": 5
}
